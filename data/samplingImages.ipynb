{
 "cells": [
  {
   "cell_type": "code",
   "execution_count": 1,
   "metadata": {},
   "outputs": [],
   "source": [
    "# read the data from final_multimodal_train.tsv\n",
    "import pandas as pd\n",
    "\n",
    "data = pd.read_csv('final_multimodal_train.tsv', sep='\\t')"
   ]
  },
  {
   "cell_type": "code",
   "execution_count": 2,
   "metadata": {},
   "outputs": [],
   "source": [
    "import shutil\n",
    "import os\n",
    "\n",
    "# Create the finalImages directory if it doesn't exist\n",
    "if not os.path.exists('finalImages'):\n",
    "    os.makedirs('finalImages')\n",
    "\n",
    "# Copy the images\n",
    "for image_id in data['id']:\n",
    "    src = os.path.join('images', f'{image_id}.jpg')\n",
    "    dst = os.path.join('finalImages', f'{image_id}.jpg')\n",
    "    if os.path.exists(src):\n",
    "        shutil.copy(src, dst)"
   ]
  }
 ],
 "metadata": {
  "kernelspec": {
   "display_name": "Python 3",
   "language": "python",
   "name": "python3"
  },
  "language_info": {
   "codemirror_mode": {
    "name": "ipython",
    "version": 3
   },
   "file_extension": ".py",
   "mimetype": "text/x-python",
   "name": "python",
   "nbconvert_exporter": "python",
   "pygments_lexer": "ipython3",
   "version": "3.13.0"
  }
 },
 "nbformat": 4,
 "nbformat_minor": 2
}
