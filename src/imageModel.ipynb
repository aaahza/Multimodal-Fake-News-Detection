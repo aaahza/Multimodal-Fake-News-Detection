{
 "cells": [
  {
   "cell_type": "code",
   "execution_count": 11,
   "metadata": {},
   "outputs": [],
   "source": [
    "import pandas as pd\n",
    "\n",
    "file_path = 'final_multimodal_train.tsv'\n",
    "\n",
    "# Load the data\n",
    "data = pd.read_csv(file_path, sep='\\t')"
   ]
  },
  {
   "cell_type": "code",
   "execution_count": 12,
   "metadata": {},
   "outputs": [
    {
     "name": "stdout",
     "output_type": "stream",
     "text": [
      "\n",
      "Class Balance:\n",
      "2_way_label\n",
      "0    36432\n",
      "1    23568\n",
      "Name: count, dtype: int64\n"
     ]
    }
   ],
   "source": [
    "# balance of classes in this data\n",
    "print(\"\\nClass Balance:\")\n",
    "print(data['2_way_label'].value_counts())"
   ]
  },
  {
   "cell_type": "code",
   "execution_count": 13,
   "metadata": {},
   "outputs": [],
   "source": [
    "from PIL import Image, ImageChops, ImageEnhance\n",
    "import os\n",
    "from tqdm import tqdm\n",
    "\n",
    "def ela_image(image_path, output_path, quality=75):\n",
    "    try:\n",
    "        # Open the original image\n",
    "        original = Image.open(image_path)\n",
    "        \n",
    "        # Convert image to RGB mode if needed\n",
    "        if original.mode != 'RGB':\n",
    "            original = original.convert('RGB')\n",
    "        \n",
    "        # Save temporary compressed image\n",
    "        temp_path = 'temp.jpg'\n",
    "        original.save(temp_path, 'JPEG', quality=quality)\n",
    "        \n",
    "        # Open compressed image\n",
    "        recompressed = Image.open(temp_path)\n",
    "        \n",
    "        # Calculate difference\n",
    "        diff = ImageChops.difference(original, recompressed)\n",
    "        \n",
    "        # Scale the difference\n",
    "        extrema = diff.getextrema()\n",
    "        max_diff = max([ex[1] for ex in extrema])\n",
    "        \n",
    "        if max_diff == 0:\n",
    "            # Create black image if no difference\n",
    "            scaled = Image.new('RGB', diff.size, 0)\n",
    "        else:\n",
    "            # Scale the difference for visibility\n",
    "            scale = 255.0 / max_diff\n",
    "            scaled = ImageEnhance.Brightness(diff).enhance(scale)\n",
    "        \n",
    "        # Save ELA result\n",
    "        scaled.save(output_path, 'JPEG')\n",
    "        \n",
    "        # Cleanup\n",
    "        os.remove(temp_path)\n",
    "        return True\n",
    "        \n",
    "    except Exception as e:\n",
    "        print(f\"Error processing {image_path}: {str(e)}\")\n",
    "        return False\n",
    "\n",
    "# Create output directory\n",
    "output_dir = 'ela_images'\n",
    "os.makedirs(output_dir, exist_ok=True)"
   ]
  },
  {
   "cell_type": "code",
   "execution_count": 14,
   "metadata": {},
   "outputs": [
    {
     "name": "stderr",
     "output_type": "stream",
     "text": [
      "Processing images:   1%|          | 460/60000 [00:00<00:12, 4584.60it/s]"
     ]
    },
    {
     "name": "stdout",
     "output_type": "stream",
     "text": [
      "Error processing finalImages/cii71pz.jpg: Truncated File Read\n",
      "Error processing finalImages/cw74890.jpg: cannot identify image file 'C:\\\\Users\\\\ASUS\\\\Desktop\\\\ml project stuff\\\\finalImages\\\\cw74890.jpg'\n",
      "Error processing finalImages/dq4x5ki.jpg: cannot identify image file 'C:\\\\Users\\\\ASUS\\\\Desktop\\\\ml project stuff\\\\finalImages\\\\dq4x5ki.jpg'\n"
     ]
    },
    {
     "name": "stderr",
     "output_type": "stream",
     "text": [
      "Processing images:   5%|▍         | 2810/60000 [00:00<00:10, 5452.49it/s]"
     ]
    },
    {
     "name": "stdout",
     "output_type": "stream",
     "text": [
      "Error processing finalImages/d1v7bwy.jpg: cannot identify image file 'C:\\\\Users\\\\ASUS\\\\Desktop\\\\ml project stuff\\\\finalImages\\\\d1v7bwy.jpg'\n",
      "Error processing finalImages/dcp93kl.jpg: cannot identify image file 'C:\\\\Users\\\\ASUS\\\\Desktop\\\\ml project stuff\\\\finalImages\\\\dcp93kl.jpg'\n"
     ]
    },
    {
     "name": "stderr",
     "output_type": "stream",
     "text": [
      "Processing images:   6%|▋         | 3881/60000 [00:00<00:10, 5172.70it/s]"
     ]
    },
    {
     "name": "stdout",
     "output_type": "stream",
     "text": [
      "Error processing finalImages/c9l73ty.jpg: cannot identify image file 'C:\\\\Users\\\\ASUS\\\\Desktop\\\\ml project stuff\\\\finalImages\\\\c9l73ty.jpg'\n"
     ]
    },
    {
     "name": "stderr",
     "output_type": "stream",
     "text": [
      "Processing images:  11%|█         | 6515/60000 [00:01<00:10, 5201.83it/s]"
     ]
    },
    {
     "name": "stdout",
     "output_type": "stream",
     "text": [
      "Error processing finalImages/dgd7lo5.jpg: cannot identify image file 'C:\\\\Users\\\\ASUS\\\\Desktop\\\\ml project stuff\\\\finalImages\\\\dgd7lo5.jpg'\n",
      "Error processing finalImages/c89lshc.jpg: cannot identify image file 'C:\\\\Users\\\\ASUS\\\\Desktop\\\\ml project stuff\\\\finalImages\\\\c89lshc.jpg'\n"
     ]
    },
    {
     "name": "stderr",
     "output_type": "stream",
     "text": [
      "Processing images:  19%|█▉        | 11683/60000 [00:02<00:09, 5013.02it/s]"
     ]
    },
    {
     "name": "stdout",
     "output_type": "stream",
     "text": [
      "Error processing finalImages/cj6w3xw.jpg: cannot identify image file 'C:\\\\Users\\\\ASUS\\\\Desktop\\\\ml project stuff\\\\finalImages\\\\cj6w3xw.jpg'\n"
     ]
    },
    {
     "name": "stderr",
     "output_type": "stream",
     "text": [
      "Processing images:  25%|██▌       | 15060/60000 [00:02<00:08, 5452.13it/s]"
     ]
    },
    {
     "name": "stdout",
     "output_type": "stream",
     "text": [
      "Error processing finalImages/chyyfga.jpg: cannot identify image file 'C:\\\\Users\\\\ASUS\\\\Desktop\\\\ml project stuff\\\\finalImages\\\\chyyfga.jpg'\n",
      "Error processing finalImages/e18t1mm.jpg: cannot identify image file 'C:\\\\Users\\\\ASUS\\\\Desktop\\\\ml project stuff\\\\finalImages\\\\e18t1mm.jpg'\n"
     ]
    },
    {
     "name": "stderr",
     "output_type": "stream",
     "text": [
      "Processing images:  32%|███▏      | 18985/60000 [00:03<00:07, 5623.98it/s]"
     ]
    },
    {
     "name": "stdout",
     "output_type": "stream",
     "text": [
      "Error processing finalImages/cyi7u0c.jpg: cannot identify image file 'C:\\\\Users\\\\ASUS\\\\Desktop\\\\ml project stuff\\\\finalImages\\\\cyi7u0c.jpg'\n"
     ]
    },
    {
     "name": "stderr",
     "output_type": "stream",
     "text": [
      "Processing images:  36%|███▌      | 21363/60000 [00:03<00:07, 5445.51it/s]"
     ]
    },
    {
     "name": "stdout",
     "output_type": "stream",
     "text": [
      "Error processing finalImages/cnth65g.jpg: cannot identify image file 'C:\\\\Users\\\\ASUS\\\\Desktop\\\\ml project stuff\\\\finalImages\\\\cnth65g.jpg'\n",
      "Error processing finalImages/f2zd5yw.jpg: cannot identify image file 'C:\\\\Users\\\\ASUS\\\\Desktop\\\\ml project stuff\\\\finalImages\\\\f2zd5yw.jpg'\n"
     ]
    },
    {
     "name": "stderr",
     "output_type": "stream",
     "text": [
      "Processing images:  37%|███▋      | 22482/60000 [00:04<00:06, 5470.54it/s]"
     ]
    },
    {
     "name": "stdout",
     "output_type": "stream",
     "text": [
      "Error processing finalImages/cgx4u3c.jpg: cannot identify image file 'C:\\\\Users\\\\ASUS\\\\Desktop\\\\ml project stuff\\\\finalImages\\\\cgx4u3c.jpg'\n",
      "Error processing finalImages/cexapep.jpg: cannot identify image file 'C:\\\\Users\\\\ASUS\\\\Desktop\\\\ml project stuff\\\\finalImages\\\\cexapep.jpg'\n"
     ]
    },
    {
     "name": "stderr",
     "output_type": "stream",
     "text": [
      "Processing images:  45%|████▌     | 27116/60000 [00:05<00:06, 5328.08it/s]"
     ]
    },
    {
     "name": "stdout",
     "output_type": "stream",
     "text": [
      "Error processing finalImages/c74xt4o.jpg: cannot identify image file 'C:\\\\Users\\\\ASUS\\\\Desktop\\\\ml project stuff\\\\finalImages\\\\c74xt4o.jpg'\n",
      "Error processing finalImages/cqhowgl.jpg: cannot identify image file 'C:\\\\Users\\\\ASUS\\\\Desktop\\\\ml project stuff\\\\finalImages\\\\cqhowgl.jpg'\n"
     ]
    },
    {
     "name": "stderr",
     "output_type": "stream",
     "text": [
      "Processing images:  49%|████▉     | 29257/60000 [00:05<00:06, 5098.90it/s]"
     ]
    },
    {
     "name": "stdout",
     "output_type": "stream",
     "text": [
      "Error processing finalImages/ds6txmd.jpg: cannot identify image file 'C:\\\\Users\\\\ASUS\\\\Desktop\\\\ml project stuff\\\\finalImages\\\\ds6txmd.jpg'\n",
      "Error processing finalImages/dhiibiw.jpg: cannot identify image file 'C:\\\\Users\\\\ASUS\\\\Desktop\\\\ml project stuff\\\\finalImages\\\\dhiibiw.jpg'\n"
     ]
    },
    {
     "name": "stderr",
     "output_type": "stream",
     "text": [
      "Processing images:  55%|█████▍    | 32801/60000 [00:06<00:04, 5874.11it/s]"
     ]
    },
    {
     "name": "stdout",
     "output_type": "stream",
     "text": [
      "Error processing finalImages/c814ydc.jpg: cannot identify image file 'C:\\\\Users\\\\ASUS\\\\Desktop\\\\ml project stuff\\\\finalImages\\\\c814ydc.jpg'\n",
      "Error processing finalImages/c5nrhpu.jpg: cannot identify image file 'C:\\\\Users\\\\ASUS\\\\Desktop\\\\ml project stuff\\\\finalImages\\\\c5nrhpu.jpg'\n"
     ]
    },
    {
     "name": "stderr",
     "output_type": "stream",
     "text": [
      "Processing images:  57%|█████▋    | 34111/60000 [00:06<00:04, 6099.39it/s]"
     ]
    },
    {
     "name": "stdout",
     "output_type": "stream",
     "text": [
      "Error processing finalImages/cfxta61.jpg: image file is truncated (10 bytes not processed)\n",
      "Error processing finalImages/f3ady8z.jpg: cannot identify image file 'C:\\\\Users\\\\ASUS\\\\Desktop\\\\ml project stuff\\\\finalImages\\\\f3ady8z.jpg'\n",
      "Error processing finalImages/csjp1ca.jpg: cannot identify image file 'C:\\\\Users\\\\ASUS\\\\Desktop\\\\ml project stuff\\\\finalImages\\\\csjp1ca.jpg'\n"
     ]
    },
    {
     "name": "stderr",
     "output_type": "stream",
     "text": [
      "Processing images:  61%|██████    | 36325/60000 [00:06<00:03, 6944.39it/s]"
     ]
    },
    {
     "name": "stdout",
     "output_type": "stream",
     "text": [
      "Error processing finalImages/corzta4.jpg: cannot identify image file 'C:\\\\Users\\\\ASUS\\\\Desktop\\\\ml project stuff\\\\finalImages\\\\corzta4.jpg'\n"
     ]
    },
    {
     "name": "stderr",
     "output_type": "stream",
     "text": [
      "Processing images:  64%|██████▍   | 38601/60000 [00:06<00:02, 7184.88it/s]"
     ]
    },
    {
     "name": "stdout",
     "output_type": "stream",
     "text": [
      "Error processing finalImages/dkuuac9.jpg: cannot identify image file 'C:\\\\Users\\\\ASUS\\\\Desktop\\\\ml project stuff\\\\finalImages\\\\dkuuac9.jpg'\n",
      "Error processing finalImages/c5qt713.jpg: cannot identify image file 'C:\\\\Users\\\\ASUS\\\\Desktop\\\\ml project stuff\\\\finalImages\\\\c5qt713.jpg'\n",
      "Error processing finalImages/d0gs39y.jpg: cannot identify image file 'C:\\\\Users\\\\ASUS\\\\Desktop\\\\ml project stuff\\\\finalImages\\\\d0gs39y.jpg'\n",
      "Error processing finalImages/cfgiw4f.jpg: cannot identify image file 'C:\\\\Users\\\\ASUS\\\\Desktop\\\\ml project stuff\\\\finalImages\\\\cfgiw4f.jpg'\n",
      "Error processing finalImages/dhu48yc.jpg: cannot identify image file 'C:\\\\Users\\\\ASUS\\\\Desktop\\\\ml project stuff\\\\finalImages\\\\dhu48yc.jpg'\n"
     ]
    },
    {
     "name": "stderr",
     "output_type": "stream",
     "text": [
      "Processing images:  67%|██████▋   | 40086/60000 [00:07<00:02, 7204.62it/s]"
     ]
    },
    {
     "name": "stdout",
     "output_type": "stream",
     "text": [
      "Error processing finalImages/db8iwnp.jpg: cannot identify image file 'C:\\\\Users\\\\ASUS\\\\Desktop\\\\ml project stuff\\\\finalImages\\\\db8iwnp.jpg'\n",
      "Error processing finalImages/c88qgu5.jpg: cannot identify image file 'C:\\\\Users\\\\ASUS\\\\Desktop\\\\ml project stuff\\\\finalImages\\\\c88qgu5.jpg'\n",
      "Error processing finalImages/c9vamyt.jpg: cannot identify image file 'C:\\\\Users\\\\ASUS\\\\Desktop\\\\ml project stuff\\\\finalImages\\\\c9vamyt.jpg'\n"
     ]
    },
    {
     "name": "stderr",
     "output_type": "stream",
     "text": [
      "Processing images:  73%|███████▎  | 43856/60000 [00:07<00:02, 7451.80it/s]"
     ]
    },
    {
     "name": "stdout",
     "output_type": "stream",
     "text": [
      "Error processing finalImages/cno4may.jpg: cannot identify image file 'C:\\\\Users\\\\ASUS\\\\Desktop\\\\ml project stuff\\\\finalImages\\\\cno4may.jpg'\n"
     ]
    },
    {
     "name": "stderr",
     "output_type": "stream",
     "text": [
      "Processing images:  80%|███████▉  | 47774/60000 [00:08<00:01, 7603.16it/s]"
     ]
    },
    {
     "name": "stdout",
     "output_type": "stream",
     "text": [
      "Error processing finalImages/cct2nka.jpg: cannot identify image file 'C:\\\\Users\\\\ASUS\\\\Desktop\\\\ml project stuff\\\\finalImages\\\\cct2nka.jpg'\n",
      "Error processing finalImages/f32ocn5.jpg: cannot identify image file 'C:\\\\Users\\\\ASUS\\\\Desktop\\\\ml project stuff\\\\finalImages\\\\f32ocn5.jpg'\n"
     ]
    },
    {
     "name": "stderr",
     "output_type": "stream",
     "text": [
      "Processing images:  85%|████████▍ | 50879/60000 [00:08<00:01, 7537.81it/s]"
     ]
    },
    {
     "name": "stdout",
     "output_type": "stream",
     "text": [
      "Error processing finalImages/e3q8b8r.jpg: cannot identify image file 'C:\\\\Users\\\\ASUS\\\\Desktop\\\\ml project stuff\\\\finalImages\\\\e3q8b8r.jpg'\n",
      "Error processing finalImages/c85nxki.jpg: cannot identify image file 'C:\\\\Users\\\\ASUS\\\\Desktop\\\\ml project stuff\\\\finalImages\\\\c85nxki.jpg'\n"
     ]
    },
    {
     "name": "stderr",
     "output_type": "stream",
     "text": [
      "Processing images:  91%|█████████ | 54578/60000 [00:09<00:00, 6957.98it/s]"
     ]
    },
    {
     "name": "stdout",
     "output_type": "stream",
     "text": [
      "Error processing finalImages/cffoewa.jpg: cannot identify image file 'C:\\\\Users\\\\ASUS\\\\Desktop\\\\ml project stuff\\\\finalImages\\\\cffoewa.jpg'\n"
     ]
    },
    {
     "name": "stderr",
     "output_type": "stream",
     "text": [
      "Processing images:  97%|█████████▋| 58243/60000 [00:09<00:00, 7087.05it/s]"
     ]
    },
    {
     "name": "stdout",
     "output_type": "stream",
     "text": [
      "Error processing finalImages/cfir0xe.jpg: cannot identify image file 'C:\\\\Users\\\\ASUS\\\\Desktop\\\\ml project stuff\\\\finalImages\\\\cfir0xe.jpg'\n",
      "Error processing finalImages/f0720jh.jpg: cannot identify image file 'C:\\\\Users\\\\ASUS\\\\Desktop\\\\ml project stuff\\\\finalImages\\\\f0720jh.jpg'\n",
      "Error processing finalImages/dltekd1.jpg: cannot identify image file 'C:\\\\Users\\\\ASUS\\\\Desktop\\\\ml project stuff\\\\finalImages\\\\dltekd1.jpg'\n"
     ]
    },
    {
     "name": "stderr",
     "output_type": "stream",
     "text": [
      "Processing images: 100%|██████████| 60000/60000 [00:09<00:00, 6113.72it/s]"
     ]
    },
    {
     "name": "stdout",
     "output_type": "stream",
     "text": [
      "Error processing finalImages/dij5nzu.jpg: cannot identify image file 'C:\\\\Users\\\\ASUS\\\\Desktop\\\\ml project stuff\\\\finalImages\\\\dij5nzu.jpg'\n",
      "Error processing finalImages/ckxbzyd.jpg: cannot identify image file 'C:\\\\Users\\\\ASUS\\\\Desktop\\\\ml project stuff\\\\finalImages\\\\ckxbzyd.jpg'\n",
      "\n",
      "Processing complete:\n",
      "Successful: 0\n",
      "Failed: 45\n",
      "Skipped: 59955\n"
     ]
    },
    {
     "name": "stderr",
     "output_type": "stream",
     "text": [
      "\n"
     ]
    }
   ],
   "source": [
    "# Process all images\n",
    "successful = 0\n",
    "failed = 0\n",
    "skipped = 0\n",
    "\n",
    "for idx, row in tqdm(data.iterrows(), total=len(data), desc=\"Processing images\"):\n",
    "    image_id = row['id']\n",
    "    input_path = f'finalImages/{image_id}.jpg'\n",
    "    output_path = f'{output_dir}/{image_id}_ela.jpg'\n",
    "    \n",
    "    if os.path.exists(output_path):\n",
    "        skipped += 1\n",
    "        continue\n",
    "    \n",
    "    if os.path.exists(input_path):\n",
    "        if ela_image(input_path, output_path):\n",
    "            successful += 1\n",
    "        else:\n",
    "            failed += 1\n",
    "    else:\n",
    "        failed += 1\n",
    "        print(f\"Image not found: {input_path}\")\n",
    "\n",
    "print(f\"\\nProcessing complete:\")\n",
    "print(f\"Successful: {successful}\")\n",
    "print(f\"Failed: {failed}\")\n",
    "print(f\"Skipped: {skipped}\")"
   ]
  },
  {
   "cell_type": "code",
   "execution_count": 15,
   "metadata": {},
   "outputs": [],
   "source": [
    "import numpy as np\n",
    "import cv2\n",
    "from scipy import stats\n",
    "from skimage.feature import graycomatrix, graycoprops\n",
    "from scipy.stats import entropy\n",
    "from sklearn.preprocessing import StandardScaler\n",
    "import pandas as pd"
   ]
  },
  {
   "cell_type": "code",
   "execution_count": 16,
   "metadata": {},
   "outputs": [],
   "source": [
    "def extract_statistical_features(img):\n",
    "    \"\"\"Extract basic statistical features from image\"\"\"\n",
    "    # Convert to grayscale if needed\n",
    "    if len(img.shape) == 3:\n",
    "        img = cv2.cvtColor(img, cv2.COLOR_BGR2GRAY)\n",
    "    \n",
    "    mean = np.mean(img)\n",
    "    std = np.std(img)\n",
    "    skewness = stats.skew(img.flatten())\n",
    "    kurtosis = stats.kurtosis(img.flatten())\n",
    "    \n",
    "    return {\n",
    "        'mean': mean,\n",
    "        'std': std,\n",
    "        'skewness': skewness,\n",
    "        'kurtosis': kurtosis\n",
    "    }\n",
    "\n",
    "def calculate_entropy(img):\n",
    "    \"\"\"Calculate image entropy\"\"\"\n",
    "    if len(img.shape) == 3:\n",
    "        img = cv2.cvtColor(img, cv2.COLOR_BGR2GRAY)\n",
    "    hist = cv2.calcHist([img], [0], None, [256], [0, 256])\n",
    "    hist = hist / hist.sum()\n",
    "    return -np.sum(hist * np.log2(hist + np.finfo(float).eps))\n",
    "\n",
    "def extract_glcm_features(img):\n",
    "    \"\"\"Extract GLCM texture features\"\"\"\n",
    "    if len(img.shape) == 3:\n",
    "        img = cv2.cvtColor(img, cv2.COLOR_BGR2GRAY)\n",
    "    \n",
    "    # Normalize image to fewer gray levels to reduce computation\n",
    "    bins = 8\n",
    "    img = img // (256 // bins)\n",
    "    \n",
    "    glcm = graycomatrix(img, distances=[1], angles=[0], levels=bins, symmetric=True, normed=True)\n",
    "    \n",
    "    contrast = graycoprops(glcm, 'contrast')[0][0]\n",
    "    correlation = graycoprops(glcm, 'correlation')[0][0]\n",
    "    energy = graycoprops(glcm, 'energy')[0][0]\n",
    "    homogeneity = graycoprops(glcm, 'homogeneity')[0][0]\n",
    "    \n",
    "    return {\n",
    "        'contrast': contrast,\n",
    "        'correlation': correlation,\n",
    "        'energy': energy,\n",
    "        'homogeneity': homogeneity\n",
    "    }\n",
    "\n",
    "def extract_edge_features(img):\n",
    "    \"\"\"Extract edge-based features\"\"\"\n",
    "    if len(img.shape) == 3:\n",
    "        img = cv2.cvtColor(img, cv2.COLOR_BGR2GRAY)\n",
    "    \n",
    "    # Sobel edges\n",
    "    sobelx = cv2.Sobel(img, cv2.CV_64F, 1, 0, ksize=3)\n",
    "    sobely = cv2.Sobel(img, cv2.CV_64F, 0, 1, ksize=3)\n",
    "    edge_intensity = np.sqrt(sobelx**2 + sobely**2)\n",
    "    \n",
    "    # Canny edges\n",
    "    edges = cv2.Canny(img, 100, 200)\n",
    "    edge_count = np.count_nonzero(edges)\n",
    "    \n",
    "    return {\n",
    "        'edge_intensity_mean': np.mean(edge_intensity),\n",
    "        'edge_count': edge_count\n",
    "    }\n",
    "\n",
    "def extract_frequency_features(img):\n",
    "    \"\"\"Extract frequency domain features\"\"\"\n",
    "    if len(img.shape) == 3:\n",
    "        img = cv2.cvtColor(img, cv2.COLOR_BGR2GRAY)\n",
    "    \n",
    "    # Apply FFT\n",
    "    f_transform = np.fft.fft2(img)\n",
    "    f_shift = np.fft.fftshift(f_transform)\n",
    "    magnitude_spectrum = np.abs(f_shift)\n",
    "    \n",
    "    # Get high frequency energy\n",
    "    rows, cols = img.shape\n",
    "    center_row, center_col = rows//2, cols//2\n",
    "    radius = min(center_row, center_col) // 2\n",
    "    \n",
    "    y, x = np.ogrid[-center_row:rows-center_row, -center_col:cols-center_col]\n",
    "    mask = x*x + y*y <= radius*radius\n",
    "    high_freq = magnitude_spectrum.copy()\n",
    "    high_freq[mask] = 0\n",
    "    \n",
    "    return {\n",
    "        'high_freq_energy': np.sum(high_freq)\n",
    "    }\n",
    "\n",
    "def extract_all_features(image_path):\n",
    "    \"\"\"Extract all features from an image\"\"\"\n",
    "    try:\n",
    "        img = cv2.imread(image_path)\n",
    "        if img is None:\n",
    "            return None\n",
    "        \n",
    "        features = {}\n",
    "        \n",
    "        # Extract all feature types\n",
    "        features.update(extract_statistical_features(img))\n",
    "        features['entropy'] = calculate_entropy(img)\n",
    "        features.update(extract_glcm_features(img))\n",
    "        features.update(extract_edge_features(img))\n",
    "        features.update(extract_frequency_features(img))\n",
    "        \n",
    "        return features\n",
    "    except Exception as e:\n",
    "        print(f\"Error processing {image_path}: {str(e)}\")\n",
    "        return None"
   ]
  },
  {
   "cell_type": "code",
   "execution_count": 17,
   "metadata": {},
   "outputs": [
    {
     "name": "stderr",
     "output_type": "stream",
     "text": [
      "Extracting features:  64%|██████▍   | 38466/60000 [1:02:42<41:31,  8.64it/s]  C:\\Users\\ASUS\\AppData\\Local\\Temp\\ipykernel_18108\\1697580758.py:9: RuntimeWarning: Precision loss occurred in moment calculation due to catastrophic cancellation. This occurs when the data are nearly identical. Results may be unreliable.\n",
      "  skewness = stats.skew(img.flatten())\n",
      "C:\\Users\\ASUS\\AppData\\Local\\Temp\\ipykernel_18108\\1697580758.py:10: RuntimeWarning: Precision loss occurred in moment calculation due to catastrophic cancellation. This occurs when the data are nearly identical. Results may be unreliable.\n",
      "  kurtosis = stats.kurtosis(img.flatten())\n",
      "Extracting features: 100%|██████████| 60000/60000 [1:37:30<00:00, 10.26it/s]  \n"
     ]
    }
   ],
   "source": [
    "# Process all ELA images and extract features\n",
    "features_list = []\n",
    "image_ids = []\n",
    "\n",
    "for idx, row in tqdm(data.iterrows(), total=len(data), desc=\"Extracting features\"):\n",
    "    image_id = row['id']\n",
    "    ela_path = f'ela_images/{image_id}_ela.jpg'\n",
    "    \n",
    "    if os.path.exists(ela_path):\n",
    "        features = extract_all_features(ela_path)\n",
    "        if features is not None:\n",
    "            features_list.append(features)\n",
    "            image_ids.append(image_id)"
   ]
  },
  {
   "cell_type": "code",
   "execution_count": 18,
   "metadata": {},
   "outputs": [
    {
     "name": "stdout",
     "output_type": "stream",
     "text": [
      "Extracted features for 59955 images\n",
      "\n",
      "Feature names:\n",
      "['mean', 'std', 'skewness', 'kurtosis', 'entropy', 'contrast', 'correlation', 'energy', 'homogeneity', 'edge_intensity_mean', 'edge_count', 'high_freq_energy']\n"
     ]
    }
   ],
   "source": [
    "# Create DataFrame with features\n",
    "feature_df = pd.DataFrame(features_list, index=image_ids)\n",
    "\n",
    "# Scale features\n",
    "scaler = StandardScaler()\n",
    "scaled_features = scaler.fit_transform(feature_df)\n",
    "scaled_feature_df = pd.DataFrame(scaled_features, columns=feature_df.columns, index=feature_df.index)\n",
    "\n",
    "# Save features\n",
    "scaled_feature_df.to_csv('ela_features.csv')\n",
    "print(f\"Extracted features for {len(feature_df)} images\")\n",
    "print(\"\\nFeature names:\")\n",
    "print(feature_df.columns.tolist())"
   ]
  }
 ],
 "metadata": {
  "kernelspec": {
   "display_name": "base",
   "language": "python",
   "name": "python3"
  },
  "language_info": {
   "codemirror_mode": {
    "name": "ipython",
    "version": 3
   },
   "file_extension": ".py",
   "mimetype": "text/x-python",
   "name": "python",
   "nbconvert_exporter": "python",
   "pygments_lexer": "ipython3",
   "version": "3.12.7"
  }
 },
 "nbformat": 4,
 "nbformat_minor": 2
}
